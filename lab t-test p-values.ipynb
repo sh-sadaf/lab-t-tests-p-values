{
 "cells": [
  {
   "cell_type": "code",
   "execution_count": 1,
   "id": "a2df7731",
   "metadata": {},
   "outputs": [],
   "source": [
    "import numpy as np\n",
    "from scipy import stats\n",
    "import pandas as pd"
   ]
  },
  {
   "cell_type": "markdown",
   "id": "47635001",
   "metadata": {},
   "source": [
    "## Ex.1 "
   ]
  },
  {
   "cell_type": "code",
   "execution_count": 2,
   "id": "48d514ec",
   "metadata": {},
   "outputs": [],
   "source": [
    "New_machine = [42.1, 41, 41.3, 41.8, 42.4, 42.8, 43.2, 42.3, 41.8, 42.7]\n",
    "old_machine = [42.7, 43.6, 43.8, 43.3,42.5, 43.5, 43.1, 41.7, 44, 44.1]"
   ]
  },
  {
   "cell_type": "markdown",
   "id": "6e246e54",
   "metadata": {},
   "source": [
    "    HO: There is no difference in performance of old and new machine\n",
    "    H1: New machine performs better. mean of new machine should be less than mean of old machine"
   ]
  },
  {
   "cell_type": "code",
   "execution_count": 3,
   "id": "a7c94c88",
   "metadata": {},
   "outputs": [],
   "source": [
    "# significance level of 0.05\n",
    "# goal: there is a difference between the performance of both machines"
   ]
  },
  {
   "cell_type": "code",
   "execution_count": 4,
   "id": "df576ef1",
   "metadata": {},
   "outputs": [],
   "source": [
    "# assumptions \n",
    "#1. two samples are normally distributed\n",
    "#2. two samples have similar variances\n"
   ]
  },
  {
   "cell_type": "code",
   "execution_count": 5,
   "id": "1bba6081",
   "metadata": {},
   "outputs": [],
   "source": [
    "def check_normality(data, significance):\n",
    "    test_stat_normality , p_value_normality = stats.shapiro(data)\n",
    "    print(\"pvalue\", p_value_normality)\n",
    "    if p_value_normality < significance:\n",
    "        print(\"reject null hypothesis: data not Normally distributed\")\n",
    "    else:\n",
    "        print(\"no evidence to reject the null hypothesis: data sampled from Normal\")"
   ]
  },
  {
   "cell_type": "code",
   "execution_count": 6,
   "id": "be9f5c8d",
   "metadata": {},
   "outputs": [],
   "source": [
    "def homocedasticity(group1, group2, significance):\n",
    "    test_stats_var, p_value_var = stats.levene(group1, group2)\n",
    "    print(\"pvalue\", p_value_var)\n",
    "    if p_value_var < significance:\n",
    "        print(\"reject null hypothesis: variances are different\")\n",
    "    else:\n",
    "        print(\"no evidence to reject the null hypothesis: variances are the same\")"
   ]
  },
  {
   "cell_type": "code",
   "execution_count": 7,
   "id": "f2552ea8",
   "metadata": {},
   "outputs": [
    {
     "name": "stdout",
     "output_type": "stream",
     "text": [
      "pvalue 0.9675771594047546\n",
      "no evidence to reject the null hypothesis: data sampled from Normal\n",
      "pvalue 0.5010315775871277\n",
      "no evidence to reject the null hypothesis: data sampled from Normal\n",
      "pvalue 0.8794907728819111\n",
      "no evidence to reject the null hypothesis: variances are the same\n"
     ]
    }
   ],
   "source": [
    "check_normality(New_machine,0.05)\n",
    "check_normality(old_machine,0.05)\n",
    "homocedasticity(New_machine,old_machine, 0.05)"
   ]
  },
  {
   "cell_type": "markdown",
   "id": "4e37e80b",
   "metadata": {},
   "source": [
    "Both the assumptions are fulfilled. Now we will apply the test"
   ]
  },
  {
   "cell_type": "code",
   "execution_count": 10,
   "id": "b76c0507",
   "metadata": {},
   "outputs": [
    {
     "name": "stdout",
     "output_type": "stream",
     "text": [
      "pvalue 0.0032111425007745158\n",
      "since the hypothesis is one sided >> use pvalue/2 >> pvalue one sided  0.0016055712503872579\n",
      "reject H0: There is no difference in performance of old and new machine\n"
     ]
    }
   ],
   "source": [
    "ttest, pvalue = stats.ttest_ind(New_machine, old_machine, equal_var = True)\n",
    "print(\"pvalue\", pvalue)\n",
    "print(\"since the hypothesis is one sided >> use pvalue/2 >> pvalue one sided \", pvalue/2)\n",
    "if pvalue/2 < 0.05:\n",
    "    print(\"reject H0: There is no difference in performance of old and new machine\")\n",
    "else:\n",
    "    print(\"no evidence to reject the null hypothesis\")\n"
   ]
  },
  {
   "cell_type": "markdown",
   "id": "fe64b328",
   "metadata": {},
   "source": [
    "### Ex. 2 "
   ]
  },
  {
   "cell_type": "code",
   "execution_count": 11,
   "id": "fa89fa09",
   "metadata": {},
   "outputs": [],
   "source": [
    "sophomores = [3.04, 1.71, 3.3, 2.88, 2.11, 2.6, 2.92, 3.6, 2.28, 2.82, 3.03, 3.13, 2.86, 3.49,3.11, 2.13, 3.27]\n",
    "juniors = [ 2.56,2.77, 2.7, 3, 2.98, 3.47,3.26, 3.2, 3.19, 2.65, 3, 3.39, 2.58]"
   ]
  },
  {
   "cell_type": "markdown",
   "id": "7816b43e",
   "metadata": {},
   "source": [
    "    H0: There is no difference in mean GPA of sophomores and juniors\n",
    "    H1: There is difference in mean GPA of sophomores and juniors"
   ]
  },
  {
   "cell_type": "code",
   "execution_count": 12,
   "id": "3997351b",
   "metadata": {},
   "outputs": [
    {
     "name": "stdout",
     "output_type": "stream",
     "text": [
      "pvalue 0.315408319234848\n",
      "no evidence to reject the null hypothesis: data sampled from Normal\n",
      "pvalue 0.4130052924156189\n",
      "no evidence to reject the null hypothesis: data sampled from Normal\n"
     ]
    }
   ],
   "source": [
    "check_normality(sophomores,0.05)\n",
    "check_normality(juniors,0.05)"
   ]
  },
  {
   "cell_type": "code",
   "execution_count": 13,
   "id": "77a23a98",
   "metadata": {},
   "outputs": [
    {
     "name": "stdout",
     "output_type": "stream",
     "text": [
      "std of sophomores: 0.5043108285221584\n",
      "std of juniors: 0.29712627562812255\n"
     ]
    }
   ],
   "source": [
    "\n",
    "print(\"std of sophomores:\", np.std(sophomores))\n",
    "print(\"std of juniors:\", np.std(juniors))"
   ]
  },
  {
   "cell_type": "markdown",
   "id": "a4c33b39",
   "metadata": {},
   "source": [
    "Both datasets are normally distributed but standard deviations are very different from each other, therefore we will use unpooled t-test. "
   ]
  },
  {
   "cell_type": "code",
   "execution_count": 14,
   "id": "8dd5a34c",
   "metadata": {},
   "outputs": [
    {
     "name": "stdout",
     "output_type": "stream",
     "text": [
      "ttest: -0.9231495630900278\n",
      "pvalue: 0.3642180675348571\n"
     ]
    }
   ],
   "source": [
    "ttest, pvalue = stats.ttest_ind(sophomores, juniors, equal_var=False)\n",
    "print(\"ttest:\", ttest)\n",
    "print(\"pvalue:\", pvalue)"
   ]
  },
  {
   "cell_type": "code",
   "execution_count": 15,
   "id": "5b1d739c",
   "metadata": {},
   "outputs": [
    {
     "name": "stdout",
     "output_type": "stream",
     "text": [
      "no evidence to reject the null hypothesis\n"
     ]
    }
   ],
   "source": [
    "if pvalue < 0.05:\n",
    "    print(\"reject H0: There is no difference in performance of old and new machine\")\n",
    "else:\n",
    "    print(\"no evidence to reject the null hypothesis\")\n"
   ]
  },
  {
   "cell_type": "markdown",
   "id": "df438635",
   "metadata": {},
   "source": [
    "At 5% level of significance, the data does not provide sufficient evidence that the mean GPAs of sophomores and juniors at the university are different."
   ]
  }
 ],
 "metadata": {
  "kernelspec": {
   "display_name": "Python 3 (ipykernel)",
   "language": "python",
   "name": "python3"
  },
  "language_info": {
   "codemirror_mode": {
    "name": "ipython",
    "version": 3
   },
   "file_extension": ".py",
   "mimetype": "text/x-python",
   "name": "python",
   "nbconvert_exporter": "python",
   "pygments_lexer": "ipython3",
   "version": "3.9.13"
  }
 },
 "nbformat": 4,
 "nbformat_minor": 5
}
